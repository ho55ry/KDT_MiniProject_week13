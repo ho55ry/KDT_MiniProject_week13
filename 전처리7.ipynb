{
 "cells": [
  {
   "cell_type": "code",
   "execution_count": 1,
   "metadata": {},
   "outputs": [],
   "source": [
    "import re\n",
    "from konlpy.tag import Okt\n",
    "from nltk import FreqDist\n",
    "from tqdm.notebook import tqdm\n",
    "import pandas as pd\n",
    "import numpy as np\n",
    "import matplotlib.pyplot as plt\n",
    "import tensorflow_datasets as tfds\n",
    "import tensorflow as tf\n",
    "from tensorflow.keras.layers import Flatten, Embedding, SimpleRNN, RNN, LSTM, GRU, Input, Dense, Bidirectional, Masking, GlobalMaxPooling1D, Conv1D, Dropout, BatchNormalization\n",
    "from tensorflow.keras.models import Sequential, Model, load_model\n",
    "from tensorflow.keras.preprocessing.text import Tokenizer\n",
    "from tensorflow.keras.optimizers import Adam\n",
    "from tensorflow.keras.preprocessing.sequence import pad_sequences\n",
    "from tensorflow.keras.callbacks import EarlyStopping, ModelCheckpoint\n",
    "from tensorflow.keras.utils import to_categorical\n",
    "from sklearn.model_selection import train_test_split\n",
    "from sklearn.preprocessing import LabelEncoder\n",
    "import string\n",
    "from scipy.stats import mode"
   ]
  },
  {
   "cell_type": "code",
   "execution_count": 15,
   "metadata": {},
   "outputs": [],
   "source": [
    "df=pd.read_csv('../../datasets/nlp/project/한국어 대화/키워드.csv')"
   ]
  },
  {
   "cell_type": "code",
   "execution_count": 16,
   "metadata": {},
   "outputs": [],
   "source": [
    "df['Text']=df.Q+' '+df.A"
   ]
  },
  {
   "cell_type": "code",
   "execution_count": 17,
   "metadata": {},
   "outputs": [],
   "source": [
    "df=df[['Text','S']]"
   ]
  },
  {
   "cell_type": "code",
   "execution_count": 18,
   "metadata": {},
   "outputs": [],
   "source": [
    "df.columns=['text','label']"
   ]
  },
  {
   "cell_type": "code",
   "execution_count": 19,
   "metadata": {},
   "outputs": [
    {
     "data": {
      "text/html": [
       "<div>\n",
       "<style scoped>\n",
       "    .dataframe tbody tr th:only-of-type {\n",
       "        vertical-align: middle;\n",
       "    }\n",
       "\n",
       "    .dataframe tbody tr th {\n",
       "        vertical-align: top;\n",
       "    }\n",
       "\n",
       "    .dataframe thead th {\n",
       "        text-align: right;\n",
       "    }\n",
       "</style>\n",
       "<table border=\"1\" class=\"dataframe\">\n",
       "  <thead>\n",
       "    <tr style=\"text-align: right;\">\n",
       "      <th></th>\n",
       "      <th>text</th>\n",
       "      <th>label</th>\n",
       "    </tr>\n",
       "  </thead>\n",
       "  <tbody>\n",
       "    <tr>\n",
       "      <th>0</th>\n",
       "      <td>시간에 얼마인가요 처음 시간은 원이고 이후 시간은 원씩 추가됩니다</td>\n",
       "      <td>pc방</td>\n",
       "    </tr>\n",
       "    <tr>\n",
       "      <th>1</th>\n",
       "      <td>무인발급기 있나요 무인발급기는 카운터 바로 옆쪽에 이용 가능합니다</td>\n",
       "      <td>pc방</td>\n",
       "    </tr>\n",
       "    <tr>\n",
       "      <th>2</th>\n",
       "      <td>달 정액권 끊을 수 있나요 네 달에 만 원입니다</td>\n",
       "      <td>pc방</td>\n",
       "    </tr>\n",
       "    <tr>\n",
       "      <th>3</th>\n",
       "      <td>정액권 끊다가 정지해도 되나요 네 가능합니다</td>\n",
       "      <td>pc방</td>\n",
       "    </tr>\n",
       "    <tr>\n",
       "      <th>4</th>\n",
       "      <td>음식 주문 가능한가요 햄버거랑 핫도그 종류 가능합니다</td>\n",
       "      <td>pc방</td>\n",
       "    </tr>\n",
       "    <tr>\n",
       "      <th>...</th>\n",
       "      <td>...</td>\n",
       "      <td>...</td>\n",
       "    </tr>\n",
       "    <tr>\n",
       "      <th>29241</th>\n",
       "      <td>일주일에 월화수목금 오면 얼마에요 저희 초등학생 같은 경우에는 만원 만원이요</td>\n",
       "      <td>미술학원</td>\n",
       "    </tr>\n",
       "    <tr>\n",
       "      <th>29242</th>\n",
       "      <td>그럼 월수만 할 경우에는 어떻게 해요 그럼 만원 정도에요 중학생이라고 더 받고 그런...</td>\n",
       "      <td>미술학원</td>\n",
       "    </tr>\n",
       "    <tr>\n",
       "      <th>29243</th>\n",
       "      <td>전 영역을 다 가르치시는 거에요 네 저학년은 수채화랑 디자인 가르치고 고학년은 수묵...</td>\n",
       "      <td>미술학원</td>\n",
       "    </tr>\n",
       "    <tr>\n",
       "      <th>29244</th>\n",
       "      <td>차량 같은 거는 없죠 네 차량은 없어요</td>\n",
       "      <td>미술학원</td>\n",
       "    </tr>\n",
       "    <tr>\n",
       "      <th>29245</th>\n",
       "      <td>몇시까지 해요 한시부터 여섯시까지 하고 있어요</td>\n",
       "      <td>미술학원</td>\n",
       "    </tr>\n",
       "  </tbody>\n",
       "</table>\n",
       "<p>29246 rows × 2 columns</p>\n",
       "</div>"
      ],
      "text/plain": [
       "                                                    text label\n",
       "0                   시간에 얼마인가요 처음 시간은 원이고 이후 시간은 원씩 추가됩니다   pc방\n",
       "1                   무인발급기 있나요 무인발급기는 카운터 바로 옆쪽에 이용 가능합니다   pc방\n",
       "2                             달 정액권 끊을 수 있나요 네 달에 만 원입니다   pc방\n",
       "3                               정액권 끊다가 정지해도 되나요 네 가능합니다   pc방\n",
       "4                          음식 주문 가능한가요 햄버거랑 핫도그 종류 가능합니다   pc방\n",
       "...                                                  ...   ...\n",
       "29241         일주일에 월화수목금 오면 얼마에요 저희 초등학생 같은 경우에는 만원 만원이요  미술학원\n",
       "29242  그럼 월수만 할 경우에는 어떻게 해요 그럼 만원 정도에요 중학생이라고 더 받고 그런...  미술학원\n",
       "29243  전 영역을 다 가르치시는 거에요 네 저학년은 수채화랑 디자인 가르치고 고학년은 수묵...  미술학원\n",
       "29244                              차량 같은 거는 없죠 네 차량은 없어요  미술학원\n",
       "29245                          몇시까지 해요 한시부터 여섯시까지 하고 있어요  미술학원\n",
       "\n",
       "[29246 rows x 2 columns]"
      ]
     },
     "execution_count": 19,
     "metadata": {},
     "output_type": "execute_result"
    }
   ],
   "source": [
    "df"
   ]
  },
  {
   "cell_type": "code",
   "execution_count": 20,
   "metadata": {},
   "outputs": [
    {
     "data": {
      "text/plain": [
       "(31,)"
      ]
     },
     "execution_count": 20,
     "metadata": {},
     "output_type": "execute_result"
    }
   ],
   "source": [
    "df.label.unique().shape"
   ]
  },
  {
   "cell_type": "code",
   "execution_count": 21,
   "metadata": {},
   "outputs": [],
   "source": [
    "tk=Okt()"
   ]
  },
  {
   "cell_type": "code",
   "execution_count": 22,
   "metadata": {},
   "outputs": [],
   "source": [
    "# 불용어 단어 모음\n",
    "with open('../../datasets/nlp/stopwords_kor.txt') as f:\n",
    "    stopwords=f.readlines()\n",
    "def replace_n(text):\n",
    "    text=text.replace('\\n','')\n",
    "    return text\n",
    "stopwords=list(map(replace_n,stopwords))"
   ]
  },
  {
   "cell_type": "code",
   "execution_count": 23,
   "metadata": {},
   "outputs": [
    {
     "data": {
      "text/plain": [
       "'시간 인가요 처음 시간 원 이후 시간 원 씩 추가 됩니다'"
      ]
     },
     "execution_count": 23,
     "metadata": {},
     "output_type": "execute_result"
    }
   ],
   "source": [
    "sample_text=df.iloc[0,0]\n",
    "' '.join([i for i in tk.morphs(sample_text) if i not in stopwords])"
   ]
  },
  {
   "cell_type": "code",
   "execution_count": 24,
   "metadata": {},
   "outputs": [],
   "source": [
    "from tqdm.notebook import tqdm"
   ]
  },
  {
   "cell_type": "code",
   "execution_count": 25,
   "metadata": {},
   "outputs": [
    {
     "data": {
      "application/vnd.jupyter.widget-view+json": {
       "model_id": "95077f439dca4d19b63b12e7037d3773",
       "version_major": 2,
       "version_minor": 0
      },
      "text/plain": [
       "  0%|          | 0/29246 [00:00<?, ?it/s]"
      ]
     },
     "metadata": {},
     "output_type": "display_data"
    }
   ],
   "source": [
    "for i in tqdm(range(df.shape[0])):\n",
    "    df.iloc[i,0]=' '.join([i for i in tk.morphs(df.iloc[i,0]) if i not in stopwords])"
   ]
  },
  {
   "cell_type": "code",
   "execution_count": 26,
   "metadata": {},
   "outputs": [
    {
     "data": {
      "text/html": [
       "<div>\n",
       "<style scoped>\n",
       "    .dataframe tbody tr th:only-of-type {\n",
       "        vertical-align: middle;\n",
       "    }\n",
       "\n",
       "    .dataframe tbody tr th {\n",
       "        vertical-align: top;\n",
       "    }\n",
       "\n",
       "    .dataframe thead th {\n",
       "        text-align: right;\n",
       "    }\n",
       "</style>\n",
       "<table border=\"1\" class=\"dataframe\">\n",
       "  <thead>\n",
       "    <tr style=\"text-align: right;\">\n",
       "      <th></th>\n",
       "      <th>text</th>\n",
       "      <th>label</th>\n",
       "    </tr>\n",
       "  </thead>\n",
       "  <tbody>\n",
       "    <tr>\n",
       "      <th>0</th>\n",
       "      <td>시간 인가요 처음 시간 원 이후 시간 원 씩 추가 됩니다</td>\n",
       "      <td>pc방</td>\n",
       "    </tr>\n",
       "    <tr>\n",
       "      <th>1</th>\n",
       "      <td>무인 발급 있나요 무인 발급 기는 카운터 옆쪽 이용 가능합니다</td>\n",
       "      <td>pc방</td>\n",
       "    </tr>\n",
       "    <tr>\n",
       "      <th>2</th>\n",
       "      <td>달 정액 권 끊을 있나요 달 원</td>\n",
       "      <td>pc방</td>\n",
       "    </tr>\n",
       "    <tr>\n",
       "      <th>3</th>\n",
       "      <td>정액 권 끊다가 정지 해도 되나요 가능합니다</td>\n",
       "      <td>pc방</td>\n",
       "    </tr>\n",
       "    <tr>\n",
       "      <th>4</th>\n",
       "      <td>음식 주문 가능한가요 햄버거 핫도그 종류 가능합니다</td>\n",
       "      <td>pc방</td>\n",
       "    </tr>\n",
       "    <tr>\n",
       "      <th>...</th>\n",
       "      <td>...</td>\n",
       "      <td>...</td>\n",
       "    </tr>\n",
       "    <tr>\n",
       "      <th>29241</th>\n",
       "      <td>일주일 월화 목금 오면 초등학생 경우 만원 만원</td>\n",
       "      <td>미술학원</td>\n",
       "    </tr>\n",
       "    <tr>\n",
       "      <th>29242</th>\n",
       "      <td>수만 경우 만원 중학생 받고 그런 없어요 학생 크니깐 본인 결정 좋을</td>\n",
       "      <td>미술학원</td>\n",
       "    </tr>\n",
       "    <tr>\n",
       "      <th>29243</th>\n",
       "      <td>전 영역 가르치시는 저학년 수채화 디자인 가르치고 고학년 수묵화 특강 가르치고 있어...</td>\n",
       "      <td>미술학원</td>\n",
       "    </tr>\n",
       "    <tr>\n",
       "      <th>29244</th>\n",
       "      <td>차량 없죠 차량 없어요</td>\n",
       "      <td>미술학원</td>\n",
       "    </tr>\n",
       "    <tr>\n",
       "      <th>29245</th>\n",
       "      <td>시 한시 여섯시 있어요</td>\n",
       "      <td>미술학원</td>\n",
       "    </tr>\n",
       "  </tbody>\n",
       "</table>\n",
       "<p>29246 rows × 2 columns</p>\n",
       "</div>"
      ],
      "text/plain": [
       "                                                    text label\n",
       "0                        시간 인가요 처음 시간 원 이후 시간 원 씩 추가 됩니다   pc방\n",
       "1                     무인 발급 있나요 무인 발급 기는 카운터 옆쪽 이용 가능합니다   pc방\n",
       "2                                      달 정액 권 끊을 있나요 달 원   pc방\n",
       "3                               정액 권 끊다가 정지 해도 되나요 가능합니다   pc방\n",
       "4                           음식 주문 가능한가요 햄버거 핫도그 종류 가능합니다   pc방\n",
       "...                                                  ...   ...\n",
       "29241                         일주일 월화 목금 오면 초등학생 경우 만원 만원  미술학원\n",
       "29242             수만 경우 만원 중학생 받고 그런 없어요 학생 크니깐 본인 결정 좋을  미술학원\n",
       "29243  전 영역 가르치시는 저학년 수채화 디자인 가르치고 고학년 수묵화 특강 가르치고 있어...  미술학원\n",
       "29244                                       차량 없죠 차량 없어요  미술학원\n",
       "29245                                       시 한시 여섯시 있어요  미술학원\n",
       "\n",
       "[29246 rows x 2 columns]"
      ]
     },
     "execution_count": 26,
     "metadata": {},
     "output_type": "execute_result"
    }
   ],
   "source": [
    "df"
   ]
  },
  {
   "cell_type": "code",
   "execution_count": 27,
   "metadata": {},
   "outputs": [],
   "source": [
    "tk=Tokenizer()"
   ]
  },
  {
   "cell_type": "code",
   "execution_count": 28,
   "metadata": {},
   "outputs": [],
   "source": [
    "tk.fit_on_texts(df.text)"
   ]
  },
  {
   "cell_type": "code",
   "execution_count": 29,
   "metadata": {},
   "outputs": [],
   "source": [
    "word_counts=pd.DataFrame(tk.word_counts.items())"
   ]
  },
  {
   "cell_type": "code",
   "execution_count": 30,
   "metadata": {},
   "outputs": [],
   "source": [
    "word_counts=word_counts.sort_values(by=1,ascending=False)"
   ]
  },
  {
   "cell_type": "code",
   "execution_count": 31,
   "metadata": {},
   "outputs": [],
   "source": [
    "NUM_WORDS=word_counts[word_counts[1]>30].shape[0]\n",
    "OOV='<OOV>'"
   ]
  },
  {
   "cell_type": "code",
   "execution_count": 32,
   "metadata": {},
   "outputs": [
    {
     "data": {
      "text/plain": [
       "1206"
      ]
     },
     "execution_count": 32,
     "metadata": {},
     "output_type": "execute_result"
    }
   ],
   "source": [
    "tk=Tokenizer()\n",
    "tk.fit_on_texts(df.text)\n",
    "word_counts=pd.DataFrame(tk.word_counts.items())\n",
    "word_counts=word_counts.sort_values(by=1,ascending=False)\n",
    "NUM_WORDS=word_counts[word_counts[1]>30].shape[0]\n",
    "NUM_WORDS"
   ]
  },
  {
   "cell_type": "code",
   "execution_count": 33,
   "metadata": {},
   "outputs": [],
   "source": [
    "tk=Tokenizer(oov_token=OOV,num_words=NUM_WORDS)"
   ]
  },
  {
   "cell_type": "code",
   "execution_count": 34,
   "metadata": {},
   "outputs": [],
   "source": [
    "tk.fit_on_texts(df.text)"
   ]
  },
  {
   "cell_type": "code",
   "execution_count": 35,
   "metadata": {},
   "outputs": [],
   "source": [
    "sequences=tk.texts_to_sequences(df.text)"
   ]
  },
  {
   "cell_type": "code",
   "execution_count": 36,
   "metadata": {},
   "outputs": [
    {
     "name": "stdout",
     "output_type": "stream",
     "text": [
      "최소 토큰수 : 0 \n",
      "최대 토큰수 : 49 \n",
      "평균토큰수 : 7.503897968953019 \n",
      "토큰 중앙값 : 7\n"
     ]
    }
   ],
   "source": [
    "tk=Tokenizer(oov_token=OOV,num_words=NUM_WORDS)\n",
    "tk.fit_on_texts(df.text)\n",
    "sequences=tk.texts_to_sequences(df.text)\n",
    "seqTextLen=[len(text) for text in sequences]\n",
    "print(f'최소 토큰수 : {min(seqTextLen)} \\n최대 토큰수 : {max(seqTextLen)} \\n평균토큰수 : {sum(seqTextLen)/len(seqTextLen)} \\n토큰 중앙값 : {sorted(seqTextLen)[int(len(seqTextLen)/2)]}')"
   ]
  },
  {
   "cell_type": "code",
   "execution_count": 37,
   "metadata": {},
   "outputs": [],
   "source": [
    "TEXT_LENGTH=8"
   ]
  },
  {
   "cell_type": "code",
   "execution_count": 38,
   "metadata": {},
   "outputs": [],
   "source": [
    "textData=pad_sequences(sequences,maxlen=TEXT_LENGTH)"
   ]
  },
  {
   "cell_type": "code",
   "execution_count": 189,
   "metadata": {},
   "outputs": [
    {
     "data": {
      "text/plain": [
       "(29246, 8)"
      ]
     },
     "execution_count": 189,
     "metadata": {},
     "output_type": "execute_result"
    }
   ],
   "source": [
    "textData.shape"
   ]
  },
  {
   "cell_type": "code",
   "execution_count": 40,
   "metadata": {},
   "outputs": [],
   "source": [
    "le = LabelEncoder()\n",
    "textLabel = le.fit_transform(df.label)"
   ]
  },
  {
   "cell_type": "code",
   "execution_count": 191,
   "metadata": {},
   "outputs": [
    {
     "data": {
      "text/plain": [
       "(29246,)"
      ]
     },
     "execution_count": 191,
     "metadata": {},
     "output_type": "execute_result"
    }
   ],
   "source": [
    "textLabel.shape"
   ]
  },
  {
   "cell_type": "code",
   "execution_count": 41,
   "metadata": {},
   "outputs": [],
   "source": [
    "X_train,X_test,y_train,y_test=train_test_split(textData,textLabel,test_size=0.2,stratify=textLabel)"
   ]
  },
  {
   "cell_type": "code",
   "execution_count": 42,
   "metadata": {},
   "outputs": [],
   "source": [
    "X_train=to_categorical(X_train)\n",
    "X_test=to_categorical(X_test)\n",
    "y_train=to_categorical(y_train)\n",
    "y_test=to_categorical(y_test)"
   ]
  },
  {
   "cell_type": "code",
   "execution_count": 43,
   "metadata": {},
   "outputs": [
    {
     "data": {
      "text/plain": [
       "((23396, 8, 1206), (23396, 31))"
      ]
     },
     "execution_count": 43,
     "metadata": {},
     "output_type": "execute_result"
    }
   ],
   "source": [
    "TEXT_LENGTH=8\n",
    "textData=pad_sequences(sequences,maxlen=TEXT_LENGTH)\n",
    "le = LabelEncoder()\n",
    "textLabel = le.fit_transform(df.label)\n",
    "X_train,X_test,y_train,y_test=train_test_split(textData,textLabel,test_size=0.2,stratify=textLabel)\n",
    "X_train=to_categorical(X_train)\n",
    "X_test=to_categorical(X_test)\n",
    "y_train=to_categorical(y_train)\n",
    "y_test=to_categorical(y_test)\n",
    "X_train.shape, y_train.shape"
   ]
  },
  {
   "cell_type": "code",
   "execution_count": 195,
   "metadata": {},
   "outputs": [
    {
     "name": "stdout",
     "output_type": "stream",
     "text": [
      "Epoch 1/30\n",
      "183/183 [==============================] - ETA: 0s - loss: 2.5837 - acc: 0.2746\n",
      "Epoch 1: val_acc improved from -inf to 0.43487, saving model to best_model.h5\n",
      "183/183 [==============================] - 96s 504ms/step - loss: 2.5837 - acc: 0.2746 - val_loss: 2.0297 - val_acc: 0.4349\n",
      "Epoch 2/30\n",
      "183/183 [==============================] - ETA: 0s - loss: 1.8124 - acc: 0.4835\n",
      "Epoch 2: val_acc improved from 0.43487 to 0.48256, saving model to best_model.h5\n",
      "183/183 [==============================] - 134s 733ms/step - loss: 1.8124 - acc: 0.4835 - val_loss: 1.8332 - val_acc: 0.4826\n",
      "Epoch 3/30\n",
      "183/183 [==============================] - ETA: 0s - loss: 1.5833 - acc: 0.5402\n",
      "Epoch 3: val_acc improved from 0.48256 to 0.53128, saving model to best_model.h5\n",
      "183/183 [==============================] - 127s 693ms/step - loss: 1.5833 - acc: 0.5402 - val_loss: 1.6539 - val_acc: 0.5313\n",
      "Epoch 4/30\n",
      "183/183 [==============================] - ETA: 0s - loss: 1.4608 - acc: 0.5697\n",
      "Epoch 4: val_acc improved from 0.53128 to 0.54547, saving model to best_model.h5\n",
      "183/183 [==============================] - 107s 586ms/step - loss: 1.4608 - acc: 0.5697 - val_loss: 1.6064 - val_acc: 0.5455\n",
      "Epoch 5/30\n",
      "183/183 [==============================] - ETA: 0s - loss: 1.3638 - acc: 0.5919\n",
      "Epoch 5: val_acc improved from 0.54547 to 0.54803, saving model to best_model.h5\n",
      "183/183 [==============================] - 113s 617ms/step - loss: 1.3638 - acc: 0.5919 - val_loss: 1.5847 - val_acc: 0.5480\n",
      "Epoch 6/30\n",
      "183/183 [==============================] - ETA: 0s - loss: 1.2895 - acc: 0.6105\n",
      "Epoch 6: val_acc did not improve from 0.54803\n",
      "183/183 [==============================] - 119s 650ms/step - loss: 1.2895 - acc: 0.6105 - val_loss: 1.6151 - val_acc: 0.5477\n",
      "Epoch 7/30\n",
      "183/183 [==============================] - ETA: 0s - loss: 1.2192 - acc: 0.6292\n",
      "Epoch 7: val_acc improved from 0.54803 to 0.55265, saving model to best_model.h5\n",
      "183/183 [==============================] - 130s 714ms/step - loss: 1.2192 - acc: 0.6292 - val_loss: 1.6303 - val_acc: 0.5526\n",
      "Epoch 8/30\n",
      "183/183 [==============================] - ETA: 0s - loss: 1.1449 - acc: 0.6449\n",
      "Epoch 8: val_acc did not improve from 0.55265\n",
      "183/183 [==============================] - 109s 594ms/step - loss: 1.1449 - acc: 0.6449 - val_loss: 1.6246 - val_acc: 0.5417\n",
      "Epoch 9/30\n",
      "183/183 [==============================] - ETA: 0s - loss: 1.0841 - acc: 0.6652\n",
      "Epoch 9: val_acc improved from 0.55265 to 0.55744, saving model to best_model.h5\n",
      "183/183 [==============================] - 120s 654ms/step - loss: 1.0841 - acc: 0.6652 - val_loss: 1.6703 - val_acc: 0.5574\n",
      "Epoch 9: early stopping\n"
     ]
    }
   ],
   "source": [
    "model = Sequential()\n",
    "model.add(LSTM(1024,input_shape=(X_train.shape[1:]),return_sequences=True))\n",
    "model.add(LSTM(512)) \n",
    "model.add(Dense(256, activation='relu'))\n",
    "model.add(Dense(128, activation='relu'))\n",
    "model.add(Dense(64, activation='relu'))\n",
    "model.add(Dense(31, activation='softmax'))\n",
    "\n",
    "es = EarlyStopping(monitor='val_loss', mode='min', verbose=1, patience=4)\n",
    "mc = ModelCheckpoint('best_model.h5', monitor='val_acc', mode='max', verbose=1, save_best_only=True)\n",
    "\n",
    "model.compile(loss='categorical_crossentropy', optimizer='adam', metrics=['acc'])\n",
    "history = model.fit(X_train, y_train, batch_size=128, epochs=30, callbacks=[es, mc], validation_data=(X_test, y_test))"
   ]
  },
  {
   "cell_type": "code",
   "execution_count": 5,
   "metadata": {},
   "outputs": [],
   "source": [
    "loaded_model = load_model(r'C:\\EXAM_python\\datasets\\nlp\\project\\best_model.h5')\n",
    "# print(\"\\n 테스트 정확도: %.4f\" % (loaded_model.evaluate(X_test, y_test)[1]))"
   ]
  },
  {
   "cell_type": "code",
   "execution_count": 47,
   "metadata": {},
   "outputs": [],
   "source": [
    "def guess_where(test_text):\n",
    "    test_text=re.sub('[^가-힣 ]', '',test_text)\n",
    "    test_text=[i for i in okt.morphs(test_text) if i not in stopwords]\n",
    "    test_text=np.array(tk.texts_to_sequences(test_text)).reshape(1,-1)\n",
    "    test_text=pad_sequences(test_text,maxlen=TEXT_LENGTH)\n",
    "    test_text=to_categorical(test_text,num_classes=NUM_WORDS)\n",
    "    print(le.inverse_transform((np.argmax(loaded_model.predict(test_text)),)))"
   ]
  },
  {
   "cell_type": "code",
   "execution_count": 198,
   "metadata": {},
   "outputs": [
    {
     "data": {
      "text/plain": [
       "array(['가방', '당구장', '독서실', '떡집', '모텔여관', '미술학원', '미용실', '반찬가게', '배달음식점',\n",
       "       '부동산', '세탁소', '세탁소 ', '셀프서비스', '신발', '액세서리', '약국', '어학원', '영수학원',\n",
       "       '옷수선', '의류', '정육점', '제과점', '청과물', '카페', '태권도', '펜션캠핑장', '피아노',\n",
       "       '호텔', '홀서빙음식점', '화장품'], dtype=object)"
      ]
     },
     "execution_count": 198,
     "metadata": {},
     "output_type": "execute_result"
    }
   ],
   "source": [
    "le.inverse_transform((range(1,31,1)))"
   ]
  },
  {
   "cell_type": "code",
   "execution_count": 48,
   "metadata": {},
   "outputs": [
    {
     "name": "stdout",
     "output_type": "stream",
     "text": [
      "1/1 [==============================] - 1s 591ms/step\n",
      "['미술학원']\n"
     ]
    }
   ],
   "source": [
    "test_text='여기 학원비가 얼마에요? 성인반은 13만원입니다 '\n",
    "guess_where(test_text)"
   ]
  },
  {
   "cell_type": "code",
   "execution_count": 49,
   "metadata": {},
   "outputs": [
    {
     "name": "stdout",
     "output_type": "stream",
     "text": [
      "1/1 [==============================] - 0s 46ms/step\n",
      "['미용실']\n"
     ]
    }
   ],
   "source": [
    "test_text='어떤 스타일로 잘라드릴까요? 알아서 잘라주세요'\n",
    "guess_where(test_text)"
   ]
  },
  {
   "cell_type": "code",
   "execution_count": 50,
   "metadata": {},
   "outputs": [
    {
     "name": "stdout",
     "output_type": "stream",
     "text": [
      "1/1 [==============================] - 0s 29ms/step\n",
      "['배달음식점']\n"
     ]
    }
   ],
   "source": [
    "test_text='페퍼로니 피자 라지 한판 카드 결제 할게요. 네'\n",
    "guess_where(test_text)"
   ]
  }
 ],
 "metadata": {
  "kernelspec": {
   "display_name": "tensorflow",
   "language": "python",
   "name": "python3"
  },
  "language_info": {
   "codemirror_mode": {
    "name": "ipython",
    "version": 3
   },
   "file_extension": ".py",
   "mimetype": "text/x-python",
   "name": "python",
   "nbconvert_exporter": "python",
   "pygments_lexer": "ipython3",
   "version": "3.9.16"
  },
  "orig_nbformat": 4
 },
 "nbformat": 4,
 "nbformat_minor": 2
}
